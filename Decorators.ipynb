{
 "cells": [
  {
   "cell_type": "markdown",
   "metadata": {},
   "source": [
    "## Decorators - \n",
    "source https://realpython.com/primer-on-python-decorators/"
   ]
  },
  {
   "cell_type": "markdown",
   "metadata": {},
   "source": [
    "# First class objects\n",
    "Before you can understand decorators, you must first understand how functions work. For our purposes, a function returns a value based on the given arguments.\n",
    "\n",
    "Functions are first-class objects. This means that functions can be passed around and used as arguments, just like any other object (string, int, float, list, and so on).\n",
    "\n",
    "say_hello() and cup_winners() are regular functions that expect a name given as a string.\n"
   ]
  },
  {
   "cell_type": "code",
   "execution_count": 14,
   "metadata": {},
   "outputs": [],
   "source": [
    "def say_hello(name):\n",
    "    return \"Hello {name}\".format(name=name)\n",
    "\n",
    "def cup_winners(name):\n",
    "    return \"Yo {name}, who won the world cup again?\".format(name=name)\n",
    "  \n",
    "def greet_coach(some_func):\n",
    "    return some_func(\"Coach\")"
   ]
  },
  {
   "cell_type": "markdown",
   "metadata": {},
   "source": [
    "The greet_coach() function however, expects a function as its argument. We can, for instance, pass it the say_hello() or the cup_winners() function\n",
    "\n",
    "Note that greet_coach(say_hello) refers to two functions, but in different ways: greet_coach() and say_hello. The say_hello function is named without parentheses. This means that only a reference to the function is passed. The function is not executed. The greet_coach() function, on the other hand, is written with parentheses, so it will be called as usual."
   ]
  },
  {
   "cell_type": "code",
   "execution_count": 15,
   "metadata": {},
   "outputs": [
    {
     "data": {
      "text/plain": [
       "'Hello Coach'"
      ]
     },
     "execution_count": 15,
     "metadata": {},
     "output_type": "execute_result"
    }
   ],
   "source": [
    "greet_coach(say_hello)"
   ]
  },
  {
   "cell_type": "code",
   "execution_count": 16,
   "metadata": {},
   "outputs": [
    {
     "data": {
      "text/plain": [
       "'Yo Coach, who won the world cup again?'"
      ]
     },
     "execution_count": 16,
     "metadata": {},
     "output_type": "execute_result"
    }
   ],
   "source": [
    "greet_coach(cup_winners)"
   ]
  },
  {
   "cell_type": "markdown",
   "metadata": {},
   "source": [
    "# Functions from Functions \n",
    "\n",
    "Note that you are returning first_office_dog without the parentheses. Recall that this means that you are returning a reference to the function first_office_dog."
   ]
  },
  {
   "cell_type": "code",
   "execution_count": 17,
   "metadata": {},
   "outputs": [],
   "source": [
    "def parent(num):\n",
    "    def first_office_dog():\n",
    "        return \"Woof, I am Welly\"\n",
    "\n",
    "    def second_office_dog():\n",
    "        return \"Woof me Jelly\"\n",
    "\n",
    "    if num == 1:\n",
    "        return first_office_dog\n",
    "    else:\n",
    "        return second_office_dog"
   ]
  },
  {
   "cell_type": "code",
   "execution_count": 18,
   "metadata": {},
   "outputs": [],
   "source": [
    "first = parent(1)\n",
    "second = parent(2)"
   ]
  },
  {
   "cell_type": "markdown",
   "metadata": {},
   "source": [
    "The somewhat cryptic output means that the first variable refers to the local first_office_dog() function inside of parent(), while second points to second_office_dog()."
   ]
  },
  {
   "cell_type": "code",
   "execution_count": 19,
   "metadata": {},
   "outputs": [
    {
     "data": {
      "text/plain": [
       "<function __main__.first_office_dog>"
      ]
     },
     "execution_count": 19,
     "metadata": {},
     "output_type": "execute_result"
    }
   ],
   "source": [
    "first"
   ]
  },
  {
   "cell_type": "code",
   "execution_count": 20,
   "metadata": {},
   "outputs": [
    {
     "data": {
      "text/plain": [
       "'Woof, I am Welly'"
      ]
     },
     "execution_count": 20,
     "metadata": {},
     "output_type": "execute_result"
    }
   ],
   "source": [
    "first()"
   ]
  },
  {
   "cell_type": "code",
   "execution_count": 21,
   "metadata": {},
   "outputs": [
    {
     "data": {
      "text/plain": [
       "'Woof me Jelly'"
      ]
     },
     "execution_count": 21,
     "metadata": {},
     "output_type": "execute_result"
    }
   ],
   "source": [
    "second()"
   ]
  },
  {
   "cell_type": "markdown",
   "metadata": {},
   "source": [
    "# Decorators\n",
    "We are applying everything you have learnt so far. The so-called decoration happens at the following line: 11"
   ]
  },
  {
   "cell_type": "code",
   "execution_count": 22,
   "metadata": {},
   "outputs": [
    {
     "name": "stdout",
     "output_type": "stream",
     "text": [
      "Welly makes a woof BEFORE Jelly\n",
      "Jelly goes waf waf\n",
      "Welly makes a woof AFTER Jelly\n"
     ]
    }
   ],
   "source": [
    "def parent(func):\n",
    "    def first_office_dog():\n",
    "        print(\"Welly makes a woof BEFORE Jelly\")\n",
    "        func()\n",
    "        print(\"Welly makes a woof AFTER Jelly\")\n",
    "    return first_office_dog\n",
    "  \n",
    "\n",
    "def second_office_dog():\n",
    "    print(\"Jelly goes waf waf\")\n",
    "\n",
    "x = parent(second_office_dog) \n",
    "x()"
   ]
  },
  {
   "cell_type": "markdown",
   "metadata": {},
   "source": [
    "In effect, the name x now points to the first_office_dog() inner function.\n",
    "\n",
    "Put simply: decorators wrap a function, modifying its behavior.\n"
   ]
  },
  {
   "cell_type": "code",
   "execution_count": 23,
   "metadata": {},
   "outputs": [
    {
     "name": "stdout",
     "output_type": "stream",
     "text": [
      "Jelly goes waf waf\n"
     ]
    }
   ],
   "source": [
    "second_office_dog()"
   ]
  },
  {
   "cell_type": "code",
   "execution_count": null,
   "metadata": {},
   "outputs": [],
   "source": []
  },
  {
   "cell_type": "markdown",
   "metadata": {},
   "source": [
    "# Syntatic sugar \n",
    "\n",
    "The way you decorated second_office_dog() above is a little clunky. First of all, you end up typing the name second_office_dog two times (or 3 if you rename x to second_office_dog). In addition, the decoration gets a bit hidden away below the definition of the function.\n",
    "\n",
    "Python allows you to use decorators in a simpler way with the @ symbol, sometimes called the “pie” syntax. The following example does the exact same thing as the first decorator example:\n",
    "\n",
    "In summary, @parent is just an easier way of saying x = parent(second_office_dog). It’s how you apply a decorator to a function.\n"
   ]
  },
  {
   "cell_type": "code",
   "execution_count": 24,
   "metadata": {},
   "outputs": [],
   "source": [
    "def parent(func):\n",
    "    def first_office_dog():\n",
    "        print(\"Welly makes a woof BEFORE Jelly\")\n",
    "        func()\n",
    "        print(\"Welly makes a woof AFTER Jelly\")\n",
    "    return first_office_dog\n",
    "  \n",
    "@parent\n",
    "def second_office_dog():\n",
    "    print(\"Jelly goes waf waf\")"
   ]
  },
  {
   "cell_type": "code",
   "execution_count": 25,
   "metadata": {},
   "outputs": [
    {
     "name": "stdout",
     "output_type": "stream",
     "text": [
      "Welly makes a woof BEFORE Jelly\n",
      "Jelly goes waf waf\n",
      "Welly makes a woof AFTER Jelly\n"
     ]
    }
   ],
   "source": [
    "second_office_dog()"
   ]
  },
  {
   "cell_type": "code",
   "execution_count": null,
   "metadata": {},
   "outputs": [],
   "source": []
  }
 ],
 "metadata": {
  "kernelspec": {
   "display_name": "Python 3",
   "language": "python",
   "name": "python3"
  },
  "language_info": {
   "codemirror_mode": {
    "name": "ipython",
    "version": 2
   },
   "file_extension": ".py",
   "mimetype": "text/x-python",
   "name": "python",
   "nbconvert_exporter": "python",
   "pygments_lexer": "ipython2",
   "version": "2.7.15"
  }
 },
 "nbformat": 4,
 "nbformat_minor": 2
}
