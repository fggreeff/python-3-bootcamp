{
 "cells": [
  {
   "cell_type": "markdown",
   "metadata": {},
   "source": [
    "# Decorators - quiz"
   ]
  },
  {
   "cell_type": "markdown",
   "metadata": {},
   "source": [
    "### 1. What is the output of the code below? "
   ]
  },
  {
   "cell_type": "code",
   "execution_count": null,
   "metadata": {},
   "outputs": [],
   "source": [
    "def outer(x):\n",
    "    def inner():\n",
    "        print(\"Decorated\")\n",
    "        x()\n",
    "    return inner\n",
    "\n",
    "def my_func():\n",
    "    \n",
    "    \n",
    "p = outer(my_func)\n",
    "p()"
   ]
  },
  {
   "cell_type": "markdown",
   "metadata": {},
   "source": [
    "### Workshop Apply the decorator in a much easier way..."
   ]
  },
  {
   "cell_type": "code",
   "execution_count": null,
   "metadata": {},
   "outputs": [],
   "source": [
    "def outer(x):\n",
    "    def inner():\n",
    "        print(\"Decorated\")\n",
    "        x()\n",
    "    return inner\n",
    "\n",
    "@outer\n",
    "def my_func():\n",
    "    print(\"U wot m8?\")\n",
    "    \n",
    "my_func()\n",
    "    \n",
    "# my_func = outer(my_func)\n",
    "# my_func()"
   ]
  },
  {
   "cell_type": "markdown",
   "metadata": {},
   "source": [
    "### 2. Which function is the decorator?"
   ]
  },
  {
   "cell_type": "code",
   "execution_count": null,
   "metadata": {},
   "outputs": [],
   "source": [
    "a) p()\n",
    "b) inner()\n",
    "c) my_func()\n",
    "d) outer()"
   ]
  },
  {
   "cell_type": "markdown",
   "metadata": {},
   "source": [
    "### 3. What is the output of the code below? "
   ]
  },
  {
   "cell_type": "code",
   "execution_count": null,
   "metadata": {},
   "outputs": [],
   "source": [
    "def my_lovely_func():\n",
    "    print(\"woof\")\n",
    "    \n",
    "my_lovely_func\n",
    "my_lovely_func()"
   ]
  },
  {
   "cell_type": "markdown",
   "metadata": {},
   "source": [
    "### 4. Are the two snippets of the code below equivalent?"
   ]
  },
  {
   "cell_type": "code",
   "execution_count": null,
   "metadata": {},
   "outputs": [],
   "source": [
    "# CODE 1\n",
    "@func2\n",
    "def func1():\n",
    "    print(\"Hello\")\n",
    "    \n",
    "# CODE 2\n",
    "def func1():\n",
    "    print(\"Hello\")\n",
    "func1 = func2(func1)"
   ]
  },
  {
   "cell_type": "markdown",
   "metadata": {},
   "source": [
    "### 5. What is the output of the code below? "
   ]
  },
  {
   "cell_type": "code",
   "execution_count": null,
   "metadata": {},
   "outputs": [],
   "source": [
    "def outer(x):\n",
    "    def inner(a, b):\n",
    "        print(\"Ruby\")\n",
    "        if b==0:\n",
    "            print(\"Welly\")\n",
    "            return\n",
    "#         return my_func(a, b)\n",
    "    return inner\n",
    "\n",
    "@outer\n",
    "def my_func(a, b):\n",
    "    return a%b\n",
    "my_func(4,0)"
   ]
  },
  {
   "cell_type": "markdown",
   "metadata": {},
   "source": [
    "### 6.  How do I make the code below work?"
   ]
  },
  {
   "cell_type": "code",
   "execution_count": null,
   "metadata": {},
   "outputs": [],
   "source": [
    "def outer(our_func):\n",
    "    def inner(*args, **kwargs):\n",
    "        print(\"Decorated\")\n",
    "        our_func(*args, **kwargs)\n",
    "    return inner\n",
    "\n",
    "@outer\n",
    "def my_func_1():\n",
    "    print(\"I don't have an age\")\n",
    "    \n",
    "@outer\n",
    "def my_func_2(age):\n",
    "    print(\"My age is {}\".format(age))\n",
    "    \n",
    "my_func_1()\n",
    "my_func_2(40)"
   ]
  },
  {
   "cell_type": "markdown",
   "metadata": {},
   "source": [
    "### 7.  Using a class"
   ]
  },
  {
   "cell_type": "code",
   "execution_count": null,
   "metadata": {},
   "outputs": [],
   "source": [
    "# create class here\n",
    "    \n",
    "@outer\n",
    "def my_func_1():\n",
    "    print(\"I don't have an age\")\n",
    "    \n",
    "my_func_1()"
   ]
  },
  {
   "cell_type": "markdown",
   "metadata": {},
   "source": [
    "### 8. What is a first class function?"
   ]
  },
  {
   "cell_type": "markdown",
   "metadata": {},
   "source": [
    "### 9. Bonus: What type of dog does Chris have?"
   ]
  },
  {
   "cell_type": "markdown",
   "metadata": {},
   "source": [
    "### Answer"
   ]
  },
  {
   "cell_type": "markdown",
   "metadata": {},
   "source": [
    ".2 Explanation: The function outer() is the decorator. The function which is getting decorated is my_func(). The return function is given the name p().\n",
    "\n",
    ".4 TRue - The @ symbol can be used as an alternate way to specify a function that needs to be decorated. The output of the codes shown above is the same. \n",
    "\n",
    ".8 First class functions allow us to treat any object like a function. "
   ]
  },
  {
   "cell_type": "markdown",
   "metadata": {},
   "source": [
    "Inspiration - https://www.sanfoundry.com/python-questions-answers-decorators/"
   ]
  },
  {
   "cell_type": "code",
   "execution_count": null,
   "metadata": {},
   "outputs": [],
   "source": [
    "# Solution 6: Remove me when done\n",
    "def outer(our_func):\n",
    "    def inner(*args, **kwargs):\n",
    "        print(\"Decorated\")\n",
    "        our_func(*args, **kwargs)\n",
    "    return inner\n",
    "\n",
    "@outer\n",
    "def my_func_1():\n",
    "    print(\"What is my age again?\")\n",
    "    \n",
    "@outer\n",
    "def my_func_2(age):\n",
    "    print(\"Your age is {}\".format(age))\n",
    "    \n",
    "my_func_1()\n",
    "my_func_2(40)"
   ]
  },
  {
   "cell_type": "code",
   "execution_count": null,
   "metadata": {},
   "outputs": [],
   "source": [
    "# solution 7\n",
    "class outer(object):\n",
    "    def __init__(self, our_func):\n",
    "        self.our_func = our_func\n",
    "    \n",
    "    def __call__(self): # this is inner() essentially \n",
    "        return self.our_func()"
   ]
  }
 ],
 "metadata": {
  "kernelspec": {
   "display_name": "Python 3",
   "language": "python",
   "name": "python3"
  },
  "language_info": {
   "codemirror_mode": {
    "name": "ipython",
    "version": 2
   },
   "file_extension": ".py",
   "mimetype": "text/x-python",
   "name": "python",
   "nbconvert_exporter": "python",
   "pygments_lexer": "ipython2",
   "version": "2.7.15"
  }
 },
 "nbformat": 4,
 "nbformat_minor": 2
}
