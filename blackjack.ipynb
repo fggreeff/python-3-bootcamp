{
 "cells": [
  {
   "cell_type": "markdown",
   "metadata": {},
   "source": [
    "# Milestone Project 2 - Blackjack Game\n",
    "In this milestone project you will be creating a Complete BlackJack Card Game in Python.\n",
    "\n",
    "Here are the requirements:\n",
    "\n",
    "* You need to create a simple text-based [BlackJack](https://en.wikipedia.org/wiki/Blackjack) game\n",
    "* The game needs to have one player versus an automated dealer.\n",
    "* The player can stand or hit.\n",
    "* The player must be able to pick their betting amount.\n",
    "* You need to keep track of the player's total money.\n",
    "* You need to alert the player of wins, losses, or busts, etc...\n",
    "\n",
    "And most importantly:\n",
    "\n",
    "* **You must use OOP and classes in some portion of your game. You can not just use functions in your game. Use classes to help you define the Deck and the Player's hand. There are many right ways to do this, so explore it well!**\n",
    "\n",
    "\n",
    "Feel free to expand this game. Try including multiple players. Try adding in Double-Down and card splits! Remember to you are free to use any resources you want and as always:\n",
    "\n",
    "# HAVE FUN!"
   ]
  },
  {
   "cell_type": "code",
   "execution_count": null,
   "metadata": {},
   "outputs": [],
   "source": [
    "class Account:\n",
    "    \n",
    "    def __init__(self, owner, balance=100):\n",
    "        self.owner = owner\n",
    "        self.balance = balance\n",
    "    \n",
    "    def __str__(self):\n",
    "        return \"Account owner: {} \\nAccount balance: ${}\".format(self.owner, self.balance)\n",
    "\n",
    "    def deposit(self, deposit=0):\n",
    "        self.balance += deposit\n",
    "        return \"Deposit accepted, current balance ${}\".format(self.balance)\n",
    "    \n",
    "    def withdraw(self, withdraw_ammount):\n",
    "        if withdraw_ammount >  self.balance:\n",
    "            return \"Not enough funds. Available balance ${}\".format(self.balance)\n",
    "        else:\n",
    "            self.balance -= withdraw_ammount\n",
    "            return \"Withdrawal accepted. Your remaining balance is ${}\".format(self.balance)"
   ]
  },
  {
   "cell_type": "code",
   "execution_count": null,
   "metadata": {},
   "outputs": [],
   "source": [
    "cards = {\n",
    "    king: 10,\n",
    "    queen: 10,\n",
    "    jack: 10,\n",
    "    ace: 1,\n",
    "    one: 1,\n",
    "    two: 2\n",
    "    #...\n",
    "}"
   ]
  },
  {
   "cell_type": "code",
   "execution_count": null,
   "metadata": {},
   "outputs": [],
   "source": [
    "class score():\n",
    "    def __init__(self, total=0):\n",
    "        self.total = total\n",
    "        \n",
    "    def get_total(self):\n",
    "        return self.total\n",
    "    \n",
    "    def add_total(self, score=0):\n",
    "        total += score\n",
    "        return \"Your have {}\".format(self.total)\n",
    "    \n",
    "    \n",
    "        "
   ]
  },
  {
   "cell_type": "code",
   "execution_count": null,
   "metadata": {},
   "outputs": [],
   "source": []
  },
  {
   "cell_type": "code",
   "execution_count": null,
   "metadata": {},
   "outputs": [],
   "source": []
  }
 ],
 "metadata": {
  "kernelspec": {
   "display_name": "Python 3",
   "language": "python",
   "name": "python3"
  },
  "language_info": {
   "codemirror_mode": {
    "name": "ipython",
    "version": 2
   },
   "file_extension": ".py",
   "mimetype": "text/x-python",
   "name": "python",
   "nbconvert_exporter": "python",
   "pygments_lexer": "ipython2",
   "version": "2.7.15"
  }
 },
 "nbformat": 4,
 "nbformat_minor": 1
}
