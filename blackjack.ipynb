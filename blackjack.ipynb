{
 "cells": [
  {
   "cell_type": "markdown",
   "metadata": {},
   "source": [
    "# Milestone Project 2 - Blackjack Game\n",
    "In this milestone project you will be creating a Complete BlackJack Card Game in Python.\n",
    "\n",
    "Here are the requirements:\n",
    "\n",
    "* You need to create a simple text-based [BlackJack](https://en.wikipedia.org/wiki/Blackjack) game\n",
    "* The game needs to have one player versus an automated dealer.\n",
    "* The player can stand or hit.\n",
    "* The player must be able to pick their betting amount.\n",
    "* You need to keep track of the player's total money.\n",
    "* You need to alert the player of wins, losses, or busts, etc...\n",
    "\n",
    "And most importantly:\n",
    "\n",
    "* **You must use OOP and classes in some portion of your game. You can not just use functions in your game. Use classes to help you define the Deck and the Player's hand. There are many right ways to do this, so explore it well!**\n",
    "\n",
    "\n",
    "Feel free to expand this game. Try including multiple players. Try adding in Double-Down and card splits! Remember to you are free to use any resources you want and as always:\n",
    "\n",
    "# HAVE FUN!"
   ]
  },
  {
   "cell_type": "markdown",
   "metadata": {},
   "source": [
    "Create Card deck "
   ]
  },
  {
   "cell_type": "code",
   "execution_count": 11,
   "metadata": {},
   "outputs": [],
   "source": [
    "import random\n",
    "\n",
    "suits = ('Hearts', 'Diamonds', 'Spades', 'Clubs')\n",
    "ranks = ('Two', 'Three', 'Four', 'Five', 'Six', 'Seven', 'Eight', 'Nine', 'Ten', 'Jack', 'Queen', 'King', 'Ace')\n",
    "    \n",
    "values = {'Two':2, 'Three':3, 'Four':4, 'Five':5, 'Six':6, 'Seven':7, 'Eight':8, 'Nine':9, 'Ten':10, 'Jack':10,\n",
    "         'Queen':10, 'King':10, 'Ace':11}\n",
    "\n",
    "playing = True"
   ]
  },
  {
   "cell_type": "code",
   "execution_count": 18,
   "metadata": {},
   "outputs": [],
   "source": [
    "class Card:\n",
    "    \n",
    "    def __init__(self, suit, rank):\n",
    "        self.suit = suit\n",
    "        self.rank = rank\n",
    "        \n",
    "    def __str__(self):\n",
    "        return \"{0} of {1}\".format(self.rank, self.suit)"
   ]
  },
  {
   "cell_type": "code",
   "execution_count": 43,
   "metadata": {},
   "outputs": [],
   "source": [
    "class Deck:\n",
    "    \n",
    "    def __init__(self):\n",
    "        self.deck = []  \n",
    "        for suit in suits:\n",
    "            for rank in ranks:\n",
    "                self.deck.append(Card(suit, rank))\n",
    "\n",
    "    \n",
    "    def __str__(self):\n",
    "        card_deck = ''\n",
    "        for card in self.deck:\n",
    "            card_deck += str(card) + \" \\n\"\n",
    "            \n",
    "        return(\"{0}\".format(card_deck))\n",
    "\n",
    "    def shuffle(self):\n",
    "        random.shuffle(self.deck)\n",
    "        \n",
    "    def deal(self):\n",
    "        return self.deck.pop()\n",
    "        "
   ]
  },
  {
   "cell_type": "code",
   "execution_count": 44,
   "metadata": {},
   "outputs": [
    {
     "name": "stdout",
     "output_type": "stream",
     "text": [
      "Nine of Diamonds\n"
     ]
    }
   ],
   "source": [
    "x = Card(suits, ranks)\n",
    "test_deck = Deck()\n",
    "test_deck.shuffle()\n",
    "print(test_deck.deal()) \n",
    "# print(test_deck)"
   ]
  },
  {
   "cell_type": "code",
   "execution_count": null,
   "metadata": {},
   "outputs": [],
   "source": [
    "class Account:\n",
    "    \n",
    "    def __init__(self, owner, balance=100):\n",
    "        self.owner = owner\n",
    "        self.balance = balance\n",
    "    \n",
    "    def __str__(self):\n",
    "        return \"Account owner: {} \\nAccount balance: ${}\".format(self.owner, self.balance)\n",
    "\n",
    "    def deposit(self, deposit=0):\n",
    "        self.balance += deposit\n",
    "        return \"Deposit accepted, current balance ${}\".format(self.balance)\n",
    "    \n",
    "    def withdraw(self, withdraw_ammount):\n",
    "        if withdraw_ammount >  self.balance:\n",
    "            return \"Not enough funds. Available balance ${}\".format(self.balance)\n",
    "        else:\n",
    "            self.balance -= withdraw_ammount\n",
    "            return \"Withdrawal accepted. Your remaining balance is ${}\".format(self.balance)"
   ]
  },
  {
   "cell_type": "code",
   "execution_count": null,
   "metadata": {},
   "outputs": [],
   "source": [
    "class score:\n",
    "    def __init__(self, total=0):\n",
    "        self.total = total\n",
    "        \n",
    "    def get_total(self):\n",
    "        return self.total\n",
    "    \n",
    "    def add_total(self, score=0):\n",
    "        total += score\n",
    "        return \"Your have {}\".format(self.total)\n",
    "    \n",
    "    \n",
    "        "
   ]
  },
  {
   "cell_type": "code",
   "execution_count": 3,
   "metadata": {},
   "outputs": [],
   "source": [
    "def player_input():\n",
    "    player_play_option = ''\n",
    "    while player_play_option not in ('H', 'S'):\n",
    "        player_play_option = raw_input(\"Would you like to (H)it or (S)tay? \").upper()\n",
    "    return player_play_option"
   ]
  },
  {
   "cell_type": "code",
   "execution_count": 4,
   "metadata": {},
   "outputs": [
    {
     "name": "stdout",
     "output_type": "stream",
     "text": [
      "Would you like to (H)it or (S)tay?r\n",
      "Would you like to (H)it or (S)tay?s\n",
      "S\n"
     ]
    }
   ],
   "source": [
    "class game_status:\n",
    "    def __init__(self, status):\n",
    "        self.status = status\n",
    "    \n",
    "    def get_status(current_total):\n",
    "        if current_total < 21:\n",
    "            return 'keep playing'\n",
    "        elif current_total == 21:\n",
    "            return 'You win!'\n",
    "        else:\n",
    "            return 'Bust!'\n",
    "        \n",
    "\n",
    "\n",
    "\n",
    "x = player_input()\n",
    "print (x)\n"
   ]
  },
  {
   "cell_type": "code",
   "execution_count": null,
   "metadata": {},
   "outputs": [],
   "source": []
  }
 ],
 "metadata": {
  "kernelspec": {
   "display_name": "Python 3",
   "language": "python",
   "name": "python3"
  },
  "language_info": {
   "codemirror_mode": {
    "name": "ipython",
    "version": 2
   },
   "file_extension": ".py",
   "mimetype": "text/x-python",
   "name": "python",
   "nbconvert_exporter": "python",
   "pygments_lexer": "ipython2",
   "version": "2.7.15"
  }
 },
 "nbformat": 4,
 "nbformat_minor": 1
}
