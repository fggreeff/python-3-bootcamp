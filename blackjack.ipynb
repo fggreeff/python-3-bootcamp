{
 "cells": [
  {
   "cell_type": "markdown",
   "metadata": {},
   "source": [
    "# Milestone Project 2 - Blackjack Game\n",
    "In this milestone project you will be creating a Complete BlackJack Card Game in Python.\n",
    "\n",
    "Here are the requirements:\n",
    "\n",
    "* You need to create a simple text-based [BlackJack](https://en.wikipedia.org/wiki/Blackjack) game\n",
    "* The game needs to have one player versus an automated dealer.\n",
    "* The player can stand or hit.\n",
    "* The player must be able to pick their betting amount.\n",
    "* You need to keep track of the player's total money.\n",
    "* You need to alert the player of wins, losses, or busts, etc...\n",
    "\n",
    "And most importantly:\n",
    "\n",
    "* **You must use OOP and classes in some portion of your game. You can not just use functions in your game. Use classes to help you define the Deck and the Player's hand. There are many right ways to do this, so explore it well!**\n",
    "\n",
    "\n",
    "Feel free to expand this game. Try including multiple players. Try adding in Double-Down and card splits! Remember to you are free to use any resources you want and as always:\n",
    "\n",
    "# HAVE FUN!"
   ]
  },
  {
   "cell_type": "markdown",
   "metadata": {},
   "source": [
    "Create Card deck "
   ]
  },
  {
   "cell_type": "code",
   "execution_count": 102,
   "metadata": {},
   "outputs": [],
   "source": [
    "import random\n",
    "\n",
    "suits = ('Hearts', 'Diamonds', 'Spades', 'Clubs')\n",
    "ranks = ('Two', 'Three', 'Four', 'Five', 'Six', 'Seven', 'Eight', 'Nine', 'Ten', 'Jack', 'Queen', 'King', 'Ace')\n",
    "    \n",
    "values = {'Two':2, 'Three':3, 'Four':4, 'Five':5, 'Six':6, 'Seven':7, 'Eight':8, 'Nine':9, 'Ten':10, 'Jack':10,\n",
    "         'Queen':10, 'King':10, 'Ace':11}\n",
    "\n",
    "playing = True"
   ]
  },
  {
   "cell_type": "code",
   "execution_count": 103,
   "metadata": {},
   "outputs": [],
   "source": [
    "class Card:\n",
    "    \n",
    "    def __init__(self, suit, rank):\n",
    "        self.suit = suit\n",
    "        self.rank = rank\n",
    "        \n",
    "    def __str__(self):\n",
    "        return \"{0} of {1}\".format(self.rank, self.suit)"
   ]
  },
  {
   "cell_type": "code",
   "execution_count": 104,
   "metadata": {},
   "outputs": [],
   "source": [
    "class Deck:\n",
    "    \n",
    "    def __init__(self):\n",
    "        self.deck = []  \n",
    "        for suit in suits:\n",
    "            for rank in ranks:\n",
    "                self.deck.append(Card(suit, rank))\n",
    "\n",
    "    \n",
    "    def __str__(self):\n",
    "        card_deck = ''\n",
    "        for card in self.deck:\n",
    "            card_deck += str(card) + \" \\n\"\n",
    "            \n",
    "        return(\"{0}\".format(card_deck))\n",
    "\n",
    "    def shuffle(self):\n",
    "        random.shuffle(self.deck)\n",
    "        \n",
    "    def deal(self):\n",
    "        return self.deck.pop()\n",
    "        "
   ]
  },
  {
   "cell_type": "code",
   "execution_count": 105,
   "metadata": {},
   "outputs": [
    {
     "name": "stdout",
     "output_type": "stream",
     "text": [
      "Queen of Spades \n",
      "Four of Hearts \n",
      "Six of Hearts \n",
      "Eight of Clubs \n",
      "Nine of Diamonds \n",
      "Three of Spades \n",
      "King of Spades \n",
      "Seven of Hearts \n",
      "Seven of Spades \n",
      "Two of Hearts \n",
      "Two of Diamonds \n",
      "Four of Diamonds \n",
      "King of Diamonds \n",
      "Eight of Hearts \n",
      "Nine of Clubs \n",
      "Nine of Hearts \n",
      "Two of Spades \n",
      "Six of Spades \n",
      "Jack of Hearts \n",
      "Four of Clubs \n",
      "Jack of Spades \n",
      "Two of Clubs \n",
      "Ten of Diamonds \n",
      "Ace of Hearts \n",
      "Jack of Clubs \n",
      "King of Clubs \n",
      "Five of Clubs \n",
      "Eight of Diamonds \n",
      "Jack of Diamonds \n",
      "Ten of Hearts \n",
      "Eight of Spades \n",
      "Queen of Diamonds \n",
      "Six of Diamonds \n",
      "Ace of Diamonds \n",
      "Queen of Hearts \n",
      "Nine of Spades \n",
      "Three of Clubs \n",
      "Three of Hearts \n",
      "Six of Clubs \n",
      "Seven of Diamonds \n",
      "Ace of Clubs \n",
      "Ten of Spades \n",
      "Four of Spades \n",
      "Ten of Clubs \n",
      "Three of Diamonds \n",
      "Seven of Clubs \n",
      "Five of Diamonds \n",
      "King of Hearts \n",
      "Ace of Spades \n",
      "Five of Spades \n",
      "Five of Hearts \n",
      "Queen of Clubs \n",
      "\n",
      "Queen of Clubs\n"
     ]
    }
   ],
   "source": [
    "# Test shuffle & deck \n",
    "mydeck = Deck() \n",
    "mydeck.shuffle()\n",
    "print(mydeck)\n",
    "\n",
    "print(mydeck.deal())"
   ]
  },
  {
   "cell_type": "code",
   "execution_count": 106,
   "metadata": {},
   "outputs": [],
   "source": [
    "class Score:\n",
    "    def __init__(self, total=0):\n",
    "        self.total = total\n",
    "        \n",
    "    def get_total(self):\n",
    "        return self.total\n",
    "    \n",
    "    def add_total(self, score=0):\n",
    "        self.total += score\n",
    "        return \"Your have {}\".format(self.total)\n",
    "    "
   ]
  },
  {
   "cell_type": "code",
   "execution_count": 107,
   "metadata": {},
   "outputs": [
    {
     "data": {
      "text/plain": [
       "'Your have 10'"
      ]
     },
     "execution_count": 107,
     "metadata": {},
     "output_type": "execute_result"
    }
   ],
   "source": [
    "# Test get total\n",
    "my_score = Score()\n",
    "my_score.get_total()\n",
    "my_score.add_total(5)\n",
    "my_score.add_total(5)\n"
   ]
  },
  {
   "cell_type": "code",
   "execution_count": 182,
   "metadata": {},
   "outputs": [],
   "source": [
    "class Account:\n",
    "    \n",
    "    def __init__(self, owner, balance=100):\n",
    "        self.owner = owner\n",
    "        self.balance = balance\n",
    "    \n",
    "    def __str__(self):\n",
    "        return \"Account owner: {} \\nAccount balance: ${}\".format(self.owner, self.balance)\n",
    "\n",
    "    def deposit(self, deposit=0):\n",
    "        self.balance += deposit\n",
    "        return \"Deposit accepted, current balance ${}\".format(self.balance)\n",
    "    \n",
    "    def withdraw(self, withdraw_ammount):\n",
    "        if withdraw_ammount >  self.balance:\n",
    "            print(\"Not enough funds. Available balance ${}\".format(self.balance))\n",
    "        else:\n",
    "            self.balance -= withdraw_ammount\n",
    "            print(\"Withdrawal accepted. Your remaining balance is ${}\".format(self.balance))\n",
    "        \n",
    "    def account_balance(self):\n",
    "        return self.balance"
   ]
  },
  {
   "cell_type": "code",
   "execution_count": 158,
   "metadata": {},
   "outputs": [
    {
     "name": "stdout",
     "output_type": "stream",
     "text": [
      "Account owner: Pete \n",
      "Account balance: $100\n"
     ]
    },
    {
     "data": {
      "text/plain": [
       "'Not enough funds. Available balance $100'"
      ]
     },
     "execution_count": 158,
     "metadata": {},
     "output_type": "execute_result"
    }
   ],
   "source": [
    "my_account = Account('Pete')\n",
    "\n",
    "print(my_account)\n",
    "# my_account.deposit(100)\n",
    "\n",
    "\n",
    "my_account.withdraw(1000)"
   ]
  },
  {
   "cell_type": "code",
   "execution_count": 172,
   "metadata": {},
   "outputs": [],
   "source": [
    "class Chips:\n",
    "    def __init__(self):\n",
    "        self.bet_value = -1 \n",
    "        \n",
    "    def get_bet_ammount(self):\n",
    "\n",
    "        while (self.bet_value < 0):\n",
    "            try:\n",
    "                self.bet_value = int(raw_input(\"Choose a bet please? \"))\n",
    "\n",
    "            except ValueError:\n",
    "                continue\n",
    "            except IndexError:\n",
    "                continue\n",
    "\n",
    "        return self.bet_value"
   ]
  },
  {
   "cell_type": "code",
   "execution_count": 174,
   "metadata": {},
   "outputs": [
    {
     "name": "stdout",
     "output_type": "stream",
     "text": [
      "Choose a bet please? 10\n",
      "10\n"
     ]
    }
   ],
   "source": [
    "# test\n",
    "chip = Chips()\n",
    "val = chip.get_bet_ammount()\n",
    "print(val)\n"
   ]
  },
  {
   "cell_type": "code",
   "execution_count": 122,
   "metadata": {},
   "outputs": [],
   "source": [
    "class Hand:\n",
    "    def __init__(self):\n",
    "        self.cards = [] \n",
    "        self.card_value = 0   \n",
    "#         self.aces_value = 0   \n",
    "#         self.aces_rank = 'Ace'\n",
    "    \n",
    "    def add_card(self, card):\n",
    "        self.cards.append(card)\n",
    "        self.card_value += values[card.rank]\n",
    "    \n",
    "    def adjust_for_ace(self):\n",
    "        for card in self.cards:\n",
    "            if values[card.rank] == 11:\n",
    "                self.card_value -= values[card.rank]\n",
    "                values[card.rank] = 1\n",
    "                self.card_value += values[card.rank]\n",
    "        \n",
    "     \n",
    "    def __str__(self):\n",
    "        card_in_hand = ''\n",
    "        for card in self.cards:\n",
    "            card_in_hand += str(card) + \" \\n\"\n",
    "        \n",
    "        return(\"{0}\".format(card_in_hand))\n",
    "            \n",
    "    \n",
    "    def total_hand_value(self):\n",
    "        return self.card_value\n",
    "            \n",
    "        \n",
    "    \n",
    "        "
   ]
  },
  {
   "cell_type": "code",
   "execution_count": 111,
   "metadata": {},
   "outputs": [
    {
     "name": "stdout",
     "output_type": "stream",
     "text": [
      "10\n",
      "Five of Hearts \n",
      "Five of Spades \n",
      "\n"
     ]
    }
   ],
   "source": [
    "# Test dealing cards and adding to player hand. \n",
    "my_hand = Hand()\n",
    "\n",
    "card1 = mydeck.deal()\n",
    "my_hand.add_card(card1)\n",
    "\n",
    "card2 = mydeck.deal()\n",
    "my_hand.add_card(card2)\n",
    "\n",
    "print(my_hand.total_hand_value())\n",
    "\n",
    "print(my_hand)\n",
    "\n",
    "\n"
   ]
  },
  {
   "cell_type": "code",
   "execution_count": 112,
   "metadata": {},
   "outputs": [
    {
     "name": "stdout",
     "output_type": "stream",
     "text": [
      "22\n",
      "12\n",
      "Ace of Hearts \n",
      "Ace of Spades \n",
      "\n"
     ]
    }
   ],
   "source": [
    "# Test adjust_for_ace\n",
    "my_hand = Hand()\n",
    "\n",
    "card1 = Card('Hearts', 'Ace')\n",
    "my_hand.add_card(card1)\n",
    "\n",
    "card2 = mydeck.deal()\n",
    "my_hand.add_card(card2)\n",
    "\n",
    "print(my_hand.total_hand_value())\n",
    "\n",
    "my_hand.adjust_for_ace()\n",
    "print(my_hand.total_hand_value())\n",
    "\n",
    "print(my_hand)"
   ]
  },
  {
   "cell_type": "code",
   "execution_count": 113,
   "metadata": {},
   "outputs": [],
   "source": [
    "def player_input():\n",
    "    player_play_option = ''\n",
    "    while player_play_option not in ('H', 'S'):\n",
    "        player_play_option = raw_input(\"Would you like to (H)it or (S)tay? \").upper()\n",
    "    return player_play_option"
   ]
  },
  {
   "cell_type": "code",
   "execution_count": 115,
   "metadata": {},
   "outputs": [
    {
     "name": "stdout",
     "output_type": "stream",
     "text": [
      "Would you like to (H)it or (S)tay? s\n",
      "S\n"
     ]
    }
   ],
   "source": [
    "class GameStatus:\n",
    "    def __init__(self, status):\n",
    "        self.status = status\n",
    "    \n",
    "    def get_status(current_total, card_total):\n",
    "        if current_total < 21:\n",
    "            return 'keep playing'\n",
    "        elif current_total == 21 and card_total == 2:\n",
    "            return 'BlackJack you win!'\n",
    "        elif current_total == 21:\n",
    "            return 'You win!'\n",
    "        else:\n",
    "            return 'Bust!'\n",
    "        \n",
    "\n",
    "\n",
    "\n",
    "x = player_input()\n",
    "print (x)\n"
   ]
  },
  {
   "cell_type": "code",
   "execution_count": 184,
   "metadata": {},
   "outputs": [
    {
     "name": "stdout",
     "output_type": "stream",
     "text": [
      "What is your name?p\n",
      " 100\n",
      "Withdrawal accepted. Your remaining balance is $100\n",
      "Choose a bet please? 200\n"
     ]
    },
    {
     "ename": "KeyboardInterrupt",
     "evalue": "",
     "output_type": "error",
     "traceback": [
      "\u001b[0;31m---------\u001b[0m",
      "\u001b[0;31mKeyboardInterrupt\u001b[0mTraceback (most recent call last)",
      "\u001b[0;32m<ipython-input-184-3d0a05b2c121>\u001b[0m in \u001b[0;36m<module>\u001b[0;34m()\u001b[0m\n\u001b[1;32m     20\u001b[0m \u001b[0mplayer_account\u001b[0m\u001b[0;34m.\u001b[0m\u001b[0mwithdraw\u001b[0m\u001b[0;34m(\u001b[0m\u001b[0mplayer_bet\u001b[0m\u001b[0;34m)\u001b[0m\u001b[0;34m\u001b[0m\u001b[0m\n\u001b[1;32m     21\u001b[0m \u001b[0;32mwhile\u001b[0m \u001b[0;34m(\u001b[0m\u001b[0mplayer_bet\u001b[0m \u001b[0;34m>\u001b[0m \u001b[0mplayer_account\u001b[0m\u001b[0;34m.\u001b[0m\u001b[0maccount_balance\u001b[0m\u001b[0;34m(\u001b[0m\u001b[0;34m)\u001b[0m \u001b[0;32mor\u001b[0m \u001b[0mplayer_bet\u001b[0m \u001b[0;34m==\u001b[0m \u001b[0;36m0\u001b[0m\u001b[0;34m)\u001b[0m\u001b[0;34m:\u001b[0m\u001b[0;34m\u001b[0m\u001b[0m\n\u001b[0;32m---> 22\u001b[0;31m     \u001b[0mplayer_bet\u001b[0m \u001b[0;34m=\u001b[0m \u001b[0mplayer_chips\u001b[0m\u001b[0;34m.\u001b[0m\u001b[0mget_bet_ammount\u001b[0m\u001b[0;34m(\u001b[0m\u001b[0;34m)\u001b[0m\u001b[0;34m\u001b[0m\u001b[0m\n\u001b[0m\u001b[1;32m     23\u001b[0m \u001b[0;34m\u001b[0m\u001b[0m\n\u001b[1;32m     24\u001b[0m \u001b[0mplayer_account\u001b[0m\u001b[0;34m.\u001b[0m\u001b[0mwithdraw\u001b[0m\u001b[0;34m(\u001b[0m\u001b[0mplayer_bet\u001b[0m\u001b[0;34m)\u001b[0m\u001b[0;34m\u001b[0m\u001b[0m\n",
      "\u001b[0;32m<ipython-input-172-d5d9ccdae0dc>\u001b[0m in \u001b[0;36mget_bet_ammount\u001b[0;34m(self)\u001b[0m\n\u001b[1;32m      3\u001b[0m         \u001b[0mself\u001b[0m\u001b[0;34m.\u001b[0m\u001b[0mbet_value\u001b[0m \u001b[0;34m=\u001b[0m \u001b[0;34m-\u001b[0m\u001b[0;36m1\u001b[0m\u001b[0;34m\u001b[0m\u001b[0m\n\u001b[1;32m      4\u001b[0m \u001b[0;34m\u001b[0m\u001b[0m\n\u001b[0;32m----> 5\u001b[0;31m     \u001b[0;32mdef\u001b[0m \u001b[0mget_bet_ammount\u001b[0m\u001b[0;34m(\u001b[0m\u001b[0mself\u001b[0m\u001b[0;34m)\u001b[0m\u001b[0;34m:\u001b[0m\u001b[0;34m\u001b[0m\u001b[0m\n\u001b[0m\u001b[1;32m      6\u001b[0m \u001b[0;34m\u001b[0m\u001b[0m\n\u001b[1;32m      7\u001b[0m         \u001b[0;32mwhile\u001b[0m \u001b[0;34m(\u001b[0m\u001b[0mself\u001b[0m\u001b[0;34m.\u001b[0m\u001b[0mbet_value\u001b[0m \u001b[0;34m<\u001b[0m \u001b[0;36m0\u001b[0m\u001b[0;34m)\u001b[0m\u001b[0;34m:\u001b[0m\u001b[0;34m\u001b[0m\u001b[0m\n",
      "\u001b[0;31mKeyboardInterrupt\u001b[0m: "
     ]
    }
   ],
   "source": [
    "# instantiate card\n",
    "Card(suits, ranks)\n",
    "\n",
    "# instantiate deck\n",
    "card_deck = Deck()\n",
    "# shuffle deck\n",
    "card_deck.shuffle()\n",
    "\n",
    "# instantiate betting chips\n",
    "player_chips = Chips()\n",
    "\n",
    "# get player name\n",
    "player_name = raw_input(\"What is your name?\")\n",
    "player_account = Account(player_name)\n",
    "print(player_account.balance)\n",
    "\n",
    "# get player bet ammount\n",
    "# withdraw bet from account\n",
    "player_bet = 0\n",
    "while (player_bet > player_account.account_balance() or player_bet == 0):\n",
    "    player_bet = player_chips.get_bet_ammount()\n",
    "\n",
    "player_account.withdraw(player_bet)\n",
    "    \n",
    "    \n",
    "print(player_account.account_balance())\n",
    "\n",
    "card_total = 0\n",
    "while playing:\n",
    "    print(card_deck.deal())\n",
    "    card_total += 1\n",
    "    \n",
    "    playing = False \n"
   ]
  },
  {
   "cell_type": "code",
   "execution_count": null,
   "metadata": {},
   "outputs": [],
   "source": []
  }
 ],
 "metadata": {
  "kernelspec": {
   "display_name": "Python 3",
   "language": "python",
   "name": "python3"
  },
  "language_info": {
   "codemirror_mode": {
    "name": "ipython",
    "version": 2
   },
   "file_extension": ".py",
   "mimetype": "text/x-python",
   "name": "python",
   "nbconvert_exporter": "python",
   "pygments_lexer": "ipython2",
   "version": "2.7.15"
  }
 },
 "nbformat": 4,
 "nbformat_minor": 1
}
