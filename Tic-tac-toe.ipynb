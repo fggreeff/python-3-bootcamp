{
 "cells": [
  {
   "cell_type": "markdown",
   "metadata": {},
   "source": [
    "# Tic-tac-toe "
   ]
  },
  {
   "cell_type": "markdown",
   "metadata": {},
   "source": [
    "Two player game that takes turn marking spaces on a 3 by 3 grid, and the objective of the game is to place three connecting marks in a horizontal, vertical, or diagonal row."
   ]
  },
  {
   "cell_type": "code",
   "execution_count": 50,
   "metadata": {},
   "outputs": [
    {
     "name": "stdout",
     "output_type": "stream",
     "text": [
      "Would you like your mark to be X or O?x\n"
     ]
    },
    {
     "ename": "NameError",
     "evalue": "name 'x' is not defined",
     "output_type": "error",
     "traceback": [
      "\u001b[0;31m-------------------------\u001b[0m",
      "\u001b[0;31mNameError\u001b[0mTraceback (most recent call last)",
      "\u001b[0;32m<ipython-input-50-1d6125e3baf8>\u001b[0m in \u001b[0;36m<module>\u001b[0;34m()\u001b[0m\n\u001b[1;32m      7\u001b[0m \u001b[0;31m#     return mark\u001b[0m\u001b[0;34m\u001b[0m\u001b[0;34m\u001b[0m\u001b[0m\n\u001b[1;32m      8\u001b[0m \u001b[0;34m\u001b[0m\u001b[0m\n\u001b[0;32m----> 9\u001b[0;31m \u001b[0mchosenMark\u001b[0m \u001b[0;34m=\u001b[0m \u001b[0mgetMark\u001b[0m\u001b[0;34m(\u001b[0m\u001b[0;34m)\u001b[0m\u001b[0;34m\u001b[0m\u001b[0m\n\u001b[0m\u001b[1;32m     10\u001b[0m \u001b[0;32mprint\u001b[0m\u001b[0;34m(\u001b[0m\u001b[0mchosenMark\u001b[0m\u001b[0;34m)\u001b[0m\u001b[0;34m\u001b[0m\u001b[0m\n",
      "\u001b[0;32m<ipython-input-50-1d6125e3baf8>\u001b[0m in \u001b[0;36mgetMark\u001b[0;34m()\u001b[0m\n\u001b[1;32m      1\u001b[0m \u001b[0;31m# Get starting mark\u001b[0m\u001b[0;34m\u001b[0m\u001b[0;34m\u001b[0m\u001b[0m\n\u001b[1;32m      2\u001b[0m \u001b[0;32mdef\u001b[0m \u001b[0mgetMark\u001b[0m\u001b[0;34m(\u001b[0m\u001b[0;34m)\u001b[0m\u001b[0;34m:\u001b[0m\u001b[0;34m\u001b[0m\u001b[0m\n\u001b[0;32m----> 3\u001b[0;31m     \u001b[0;32mreturn\u001b[0m \u001b[0minput\u001b[0m\u001b[0;34m(\u001b[0m\u001b[0;34m'Would you like your mark to be X or O?'\u001b[0m\u001b[0;34m)\u001b[0m\u001b[0;34m\u001b[0m\u001b[0m\n\u001b[0m\u001b[1;32m      4\u001b[0m \u001b[0;31m#     if mark.upper() != 'X' or mark.upper() != 'O':\u001b[0m\u001b[0;34m\u001b[0m\u001b[0;34m\u001b[0m\u001b[0m\n\u001b[1;32m      5\u001b[0m \u001b[0;31m#         print('oops! Invalid char, you have been assigned X')\u001b[0m\u001b[0;34m\u001b[0m\u001b[0;34m\u001b[0m\u001b[0m\n",
      "\u001b[0;32m/Users/francoisgreef/anaconda2/lib/python2.7/site-packages/ipykernel/ipkernel.pyc\u001b[0m in \u001b[0;36m<lambda>\u001b[0;34m(prompt)\u001b[0m\n\u001b[1;32m    174\u001b[0m             \u001b[0mself\u001b[0m\u001b[0;34m.\u001b[0m\u001b[0m_sys_eval_input\u001b[0m \u001b[0;34m=\u001b[0m \u001b[0mbuiltin_mod\u001b[0m\u001b[0;34m.\u001b[0m\u001b[0minput\u001b[0m\u001b[0;34m\u001b[0m\u001b[0m\n\u001b[1;32m    175\u001b[0m             \u001b[0mbuiltin_mod\u001b[0m\u001b[0;34m.\u001b[0m\u001b[0mraw_input\u001b[0m \u001b[0;34m=\u001b[0m \u001b[0mself\u001b[0m\u001b[0;34m.\u001b[0m\u001b[0mraw_input\u001b[0m\u001b[0;34m\u001b[0m\u001b[0m\n\u001b[0;32m--> 176\u001b[0;31m             \u001b[0mbuiltin_mod\u001b[0m\u001b[0;34m.\u001b[0m\u001b[0minput\u001b[0m \u001b[0;34m=\u001b[0m \u001b[0;32mlambda\u001b[0m \u001b[0mprompt\u001b[0m\u001b[0;34m=\u001b[0m\u001b[0;34m''\u001b[0m\u001b[0;34m:\u001b[0m \u001b[0meval\u001b[0m\u001b[0;34m(\u001b[0m\u001b[0mself\u001b[0m\u001b[0;34m.\u001b[0m\u001b[0mraw_input\u001b[0m\u001b[0;34m(\u001b[0m\u001b[0mprompt\u001b[0m\u001b[0;34m)\u001b[0m\u001b[0;34m)\u001b[0m\u001b[0;34m\u001b[0m\u001b[0m\n\u001b[0m\u001b[1;32m    177\u001b[0m         \u001b[0mself\u001b[0m\u001b[0;34m.\u001b[0m\u001b[0m_save_getpass\u001b[0m \u001b[0;34m=\u001b[0m \u001b[0mgetpass\u001b[0m\u001b[0;34m.\u001b[0m\u001b[0mgetpass\u001b[0m\u001b[0;34m\u001b[0m\u001b[0m\n\u001b[1;32m    178\u001b[0m         \u001b[0mgetpass\u001b[0m\u001b[0;34m.\u001b[0m\u001b[0mgetpass\u001b[0m \u001b[0;34m=\u001b[0m \u001b[0mself\u001b[0m\u001b[0;34m.\u001b[0m\u001b[0mgetpass\u001b[0m\u001b[0;34m\u001b[0m\u001b[0m\n",
      "\u001b[0;32m/Users/francoisgreef/anaconda2/lib/python2.7/site-packages/ipykernel/ipkernel.pyc\u001b[0m in \u001b[0;36m<module>\u001b[0;34m()\u001b[0m\n",
      "\u001b[0;31mNameError\u001b[0m: name 'x' is not defined"
     ]
    }
   ],
   "source": [
    "# Get starting mark\n",
    "def getMark():\n",
    "    return input('Would you like your mark to be X or O?')\n",
    "#     if mark.upper() != 'X' or mark.upper() != 'O':\n",
    "#         print('oops! Invalid char, you have been assigned X')\n",
    "#         mark = 'X'\n",
    "#     return mark\n",
    "\n",
    "chosenMark = getMark()\n",
    "print(chosenMark)"
   ]
  },
  {
   "cell_type": "code",
   "execution_count": 75,
   "metadata": {
    "scrolled": true
   },
   "outputs": [
    {
     "name": "stdout",
     "output_type": "stream",
     "text": [
      "Welcome to Tic Tac Toe\n",
      "The best 2 player game ever!!\n",
      "Player 1 goes first followed by Player 2\n",
      "Player 1 is x and Player 2 is o\n",
      "\n",
      "\n",
      "Choose a number4\n",
      "1| 2| 3\n",
      "x| 5| 6\n",
      "7| 8| 9\n",
      "None\n",
      "[3]\n"
     ]
    }
   ],
   "source": [
    "# 0 1 2\n",
    "# 1 2 3\n",
    "# 2 3 4\n",
    "\n",
    "def welcomeMessage():\n",
    "    print('Welcome to Tic Tac Toe')\n",
    "    print('The best 2 player game ever!!')\n",
    "    print('Player 1 goes first followed by Player 2')\n",
    "    print('Player 1 is x and Player 2 is o')\n",
    "    print('\\n')\n",
    "    \n",
    "\n",
    "def printBoard(board):\n",
    "    i = 1\n",
    "    for num in board:\n",
    "        if i > 0 and i % 3 == 0:\n",
    "            print num\n",
    "        else:\n",
    "            print num + '|',\n",
    "        i+=1\n",
    "    \n",
    "\n",
    "def updateNumberWithSymbol(positionSelected, symbol, board):\n",
    "    board.remove(str(positionSelected)) \n",
    "    board.insert(positionSelected-1, symbol)\n",
    "    return positionSelected-1\n",
    "\n",
    "def getPlayerInput():\n",
    "    user_number = input('Choose a number ')\n",
    "    while(!user_number.isdigit()):\n",
    "        user_number = input('Choose a number ')\n",
    "        \n",
    "    else:\n",
    "        print(\"User input is string \")\n",
    "\n",
    "\n",
    "\n",
    "welcomeMessage()\n",
    "\n",
    "boardInPlay = ['1','2','3','4','5','6','7','8','9']\n",
    "xPositions = []\n",
    "oPositions = []\n",
    "\n",
    "playerInput = getPlayerInput()\n",
    "\n",
    "\n",
    "indexUpdated = updateNumberWithSymbol(playerInput, 'x', boardInPlay)\n",
    "xPositions.append(indexUpdated) \n",
    "print printBoard(boardInPlay)\n",
    "\n",
    "print xPositions\n",
    "\n",
    "# def isWinner(selectionLists):\n",
    "#     for item in selectionLists:\n",
    "#         for x in item:\n",
    "#             if \n",
    "\n",
    "\n"
   ]
  },
  {
   "cell_type": "code",
   "execution_count": null,
   "metadata": {},
   "outputs": [],
   "source": []
  }
 ],
 "metadata": {
  "kernelspec": {
   "display_name": "Python 2",
   "language": "python",
   "name": "python2"
  },
  "language_info": {
   "codemirror_mode": {
    "name": "ipython",
    "version": 2
   },
   "file_extension": ".py",
   "mimetype": "text/x-python",
   "name": "python",
   "nbconvert_exporter": "python",
   "pygments_lexer": "ipython2",
   "version": "2.7.15"
  }
 },
 "nbformat": 4,
 "nbformat_minor": 2
}
