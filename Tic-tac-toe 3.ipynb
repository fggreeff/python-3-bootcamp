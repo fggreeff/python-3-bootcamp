{
 "cells": [
  {
   "cell_type": "markdown",
   "metadata": {},
   "source": [
    "Tic-tac-toe"
   ]
  },
  {
   "cell_type": "markdown",
   "metadata": {},
   "source": [
    "Two player game that takes turn marking spaces on a 3 by 3 grid, and the objective of the game is to place three connecting marks in a horizontal, vertical, or diagonal row."
   ]
  },
  {
   "cell_type": "code",
   "execution_count": 11,
   "metadata": {},
   "outputs": [],
   "source": [
    "def welcome_message():\n",
    "    print('Welcome to Tic Tac Toe')\n",
    "    print('The best 2 player game ever!!')\n",
    "    print('Player 1 goes first followed by Player 2')\n",
    "    print('\\n')\n",
    "    "
   ]
  },
  {
   "cell_type": "code",
   "execution_count": null,
   "metadata": {},
   "outputs": [],
   "source": [
    "welcome_message()"
   ]
  },
  {
   "cell_type": "markdown",
   "metadata": {},
   "source": [
    "#### Create the tic tac toe board"
   ]
  },
  {
   "cell_type": "code",
   "execution_count": 46,
   "metadata": {},
   "outputs": [],
   "source": [
    "from IPython.display import clear_output\n",
    "\n",
    "def print_board(board):\n",
    "    clear_output\n",
    "    i = 1\n",
    "    for num in board:\n",
    "        if i > 0 and i % 3 == 0:\n",
    "            print num \n",
    "        else:\n",
    "            print num + ' | ',\n",
    "        i+=1\n",
    "    print('\\n')\n",
    "    "
   ]
  },
  {
   "cell_type": "code",
   "execution_count": null,
   "metadata": {},
   "outputs": [],
   "source": [
    "board = ['1','2','3','4','5','6','7','8','9']\n",
    "print_board(board)"
   ]
  },
  {
   "cell_type": "markdown",
   "metadata": {},
   "source": [
    "#### Player choose marker"
   ]
  },
  {
   "cell_type": "code",
   "execution_count": 50,
   "metadata": {},
   "outputs": [],
   "source": [
    "def player_input():\n",
    "    marker=''\n",
    "    while not (marker=='X' or marker=='O'):\n",
    "        marker=raw_input('Player 1, choose X or O as a marker: ').upper()\n",
    "    \n",
    "    if marker == 'X':\n",
    "        player1 = '🌟' \n",
    "        player2 = '⭕️'\n",
    "    else:\n",
    "        player1 = '⭕️'\n",
    "        player2 = '🌟'\n",
    "        \n",
    "\n",
    "    return (player1, player2)\n",
    "    "
   ]
  },
  {
   "cell_type": "code",
   "execution_count": null,
   "metadata": {},
   "outputs": [],
   "source": [
    "marker = player_input()\n",
    "marker_at_play = marker[0]\n",
    "print marker"
   ]
  },
  {
   "cell_type": "markdown",
   "metadata": {},
   "source": [
    "#### Choose where to place marker on board"
   ]
  },
  {
   "cell_type": "code",
   "execution_count": 38,
   "metadata": {},
   "outputs": [],
   "source": [
    "def position(board, player, marker):\n",
    "    player_position = 0\n",
    "   \n",
    "    while not 1 <= player_position <= 9:\n",
    "        try:\n",
    "            player_position = int(raw_input('{p}, choose a number on the board to place your marker: '.format(p=player)))\n",
    "            print('\\n')\n",
    "            if board[player_position-1] in marker: \n",
    "                print('That position has already been taken, try again')\n",
    "                player_position = 0\n",
    "        except ValueError:\n",
    "            continue\n",
    "        except IndexError:\n",
    "            continue\n",
    "    \n",
    "    return player_position\n"
   ]
  },
  {
   "cell_type": "code",
   "execution_count": null,
   "metadata": {},
   "outputs": [],
   "source": [
    "chosen_position = position(board, 'Player 1', marker)\n",
    "print chosen_position"
   ]
  },
  {
   "cell_type": "markdown",
   "metadata": {},
   "source": [
    "#### Marker gets placed on board"
   ]
  },
  {
   "cell_type": "code",
   "execution_count": 39,
   "metadata": {},
   "outputs": [],
   "source": [
    "def place_marker(position, marker, board):\n",
    "    board.remove(str(position)) \n",
    "    board.insert(position-1, marker)\n",
    "    return position-1\n"
   ]
  },
  {
   "cell_type": "code",
   "execution_count": null,
   "metadata": {},
   "outputs": [],
   "source": [
    "place_marker(chosen_position,marker_at_play,board)\n",
    "print_board(board)"
   ]
  },
  {
   "cell_type": "code",
   "execution_count": 40,
   "metadata": {},
   "outputs": [],
   "source": [
    "def win_check(board, move_position, marker):\n",
    "    win_combinations = [\n",
    "        [1,2,3],\n",
    "        [4,5,6],\n",
    "        [7,8,9],\n",
    "        \n",
    "        [1,4,7],\n",
    "        [2,5,8],\n",
    "        [3,6,9],\n",
    "        \n",
    "        [1,5,9],\n",
    "        [3,5,7]\n",
    "    ]\n",
    "    \n",
    "    \n",
    "    \n",
    "    possible_win_combinations = [win_combination\n",
    "                                 for win_combination in win_combinations\n",
    "                                 if move_position in win_combination]\n",
    "\n",
    "    \n",
    "    def validate_win(possible_win_combinations):\n",
    "        winning_combinations = []\n",
    "        for combination in possible_win_combinations:\n",
    "            combinations = [x for x in combination if marker in board[x-1]]\n",
    "            if len(combinations) > 2:\n",
    "                winning_combinations.append(combinations)\n",
    "        \n",
    "        return winning_combinations\n",
    "    \n",
    "    \n",
    "    total_winning_combinations = validate_win(possible_win_combinations)\n",
    "    \n",
    "    if len(total_winning_combinations) > 0:\n",
    "        return 'winner is {mark} who matched {win} '.format(mark=marker, win=total_winning_combinations)\n",
    "    else:\n",
    "        return 'no winner'"
   ]
  },
  {
   "cell_type": "code",
   "execution_count": null,
   "metadata": {},
   "outputs": [],
   "source": [
    "winner = win_check(board, chosen_position, marker_at_play)\n",
    "print (winner)"
   ]
  },
  {
   "cell_type": "markdown",
   "metadata": {},
   "source": [
    "####  Game in play"
   ]
  },
  {
   "cell_type": "code",
   "execution_count": 41,
   "metadata": {},
   "outputs": [],
   "source": [
    "def game_in_play():\n",
    "    \n",
    "    board = ['1','2','3','4','5','6','7','8','9']\n",
    "    chosen_position = 0\n",
    "\n",
    "    marker = player_input()\n",
    "    marker_at_play = marker[0]\n",
    "    player_name = 'Player 1'\n",
    "\n",
    "    winner = 'no winner'\n",
    "\n",
    "    i = 0\n",
    "    while winner == 'no winner':\n",
    "        i += 1\n",
    "        if i > 9:\n",
    "            winner = \"It's a tie! Try again...\"\n",
    "            break;\n",
    "        if i % 2 == 0:\n",
    "            marker_at_play = marker[1]\n",
    "            player_name = 'Player 2'\n",
    "        else:\n",
    "            marker_at_play = marker[0]\n",
    "            player_name = 'Player 1'\n",
    "\n",
    "        print_board(board)    \n",
    "        chosen_position = position(board, player_name, marker)\n",
    "        place_marker(chosen_position,marker_at_play,board)\n",
    "        winner = win_check(board, chosen_position, marker_at_play)\n",
    "        print(\"🤷‍♀️\")\n",
    "  \n",
    "    print(winner)\n",
    "    print_board(board) \n",
    "    return winner\n"
   ]
  },
  {
   "cell_type": "code",
   "execution_count": null,
   "metadata": {},
   "outputs": [],
   "source": [
    "winner = game_in_play()\n",
    "print winner"
   ]
  },
  {
   "cell_type": "markdown",
   "metadata": {},
   "source": [
    "#### Main - Game play"
   ]
  },
  {
   "cell_type": "code",
   "execution_count": 51,
   "metadata": {},
   "outputs": [
    {
     "name": "stdout",
     "output_type": "stream",
     "text": [
      "Welcome to Tic Tac Toe\n",
      "The best 2 player game ever!!\n",
      "Player 1 goes first followed by Player 2\n",
      "\n",
      "\n",
      "Player 1, choose X or O as a marker: x\n",
      "1 |  2 |  3\n",
      "4 |  5 |  6\n",
      "7 |  8 |  9\n",
      "\n",
      "\n",
      "Player 1, choose a number on the board to place your marker: 1\n",
      "\n",
      "\n",
      "🤷‍♀️\n",
      "🌟 |  2 |  3\n",
      "4 |  5 |  6\n",
      "7 |  8 |  9\n",
      "\n",
      "\n",
      "Player 2, choose a number on the board to place your marker: 5\n",
      "\n",
      "\n",
      "🤷‍♀️\n",
      "🌟 |  2 |  3\n",
      "4 |  ⭕️ |  6\n",
      "7 |  8 |  9\n",
      "\n",
      "\n",
      "Player 1, choose a number on the board to place your marker: 2\n",
      "\n",
      "\n",
      "🤷‍♀️\n",
      "🌟 |  🌟 |  3\n",
      "4 |  ⭕️ |  6\n",
      "7 |  8 |  9\n",
      "\n",
      "\n",
      "Player 2, choose a number on the board to place your marker: 9\n",
      "\n",
      "\n",
      "🤷‍♀️\n",
      "🌟 |  🌟 |  3\n",
      "4 |  ⭕️ |  6\n",
      "7 |  8 |  ⭕️\n",
      "\n",
      "\n",
      "Player 1, choose a number on the board to place your marker: 3\n",
      "\n",
      "\n",
      "🤷‍♀️\n",
      "winner is 🌟 who matched [[1, 2, 3]] \n",
      "🌟 |  🌟 |  🌟\n",
      "4 |  ⭕️ |  6\n",
      "7 |  8 |  ⭕️\n",
      "\n",
      "\n",
      "('\\xf0\\x9f\\x94\\xa5 Something went wrong! \\xf0\\x9f\\x94\\xa5', <type 'exceptions.KeyboardInterrupt'>)\n"
     ]
    },
    {
     "ename": "KeyboardInterrupt",
     "evalue": "",
     "output_type": "error",
     "traceback": [
      "\u001b[0;31m-------------------------------------------\u001b[0m",
      "\u001b[0;31mKeyboardInterrupt\u001b[0mTraceback (most recent call last)",
      "\u001b[0;32m<ipython-input-51-6c5038cd140f>\u001b[0m in \u001b[0;36m<module>\u001b[0;34m()\u001b[0m\n\u001b[1;32m      9\u001b[0m         \u001b[0mwinner\u001b[0m \u001b[0;34m=\u001b[0m \u001b[0mgame_in_play\u001b[0m\u001b[0;34m(\u001b[0m\u001b[0;34m)\u001b[0m\u001b[0;34m\u001b[0m\u001b[0m\n\u001b[1;32m     10\u001b[0m \u001b[0;34m\u001b[0m\u001b[0m\n\u001b[0;32m---> 11\u001b[0;31m         \u001b[0mplay_again\u001b[0m \u001b[0;34m=\u001b[0m \u001b[0mraw_input\u001b[0m\u001b[0;34m(\u001b[0m\u001b[0;34m'Would you like to play again? Yes (Y), No (N): '\u001b[0m\u001b[0;34m)\u001b[0m\u001b[0;34m.\u001b[0m\u001b[0mupper\u001b[0m\u001b[0;34m(\u001b[0m\u001b[0;34m)\u001b[0m\u001b[0;34m\u001b[0m\u001b[0m\n\u001b[0m\u001b[1;32m     12\u001b[0m         \u001b[0;32mif\u001b[0m \u001b[0mplay_again\u001b[0m \u001b[0;34m==\u001b[0m \u001b[0;34m'N'\u001b[0m\u001b[0;34m:\u001b[0m\u001b[0;34m\u001b[0m\u001b[0m\n\u001b[1;32m     13\u001b[0m             \u001b[0;32mprint\u001b[0m\u001b[0;34m(\u001b[0m\u001b[0;34m'Cheers 👋'\u001b[0m\u001b[0;34m)\u001b[0m\u001b[0;34m\u001b[0m\u001b[0m\n",
      "\u001b[0;32m/Users/francoisgreef/anaconda2/lib/python2.7/site-packages/ipykernel/kernelbase.pyc\u001b[0m in \u001b[0;36mraw_input\u001b[0;34m(self, prompt)\u001b[0m\n\u001b[1;32m    702\u001b[0m             \u001b[0mself\u001b[0m\u001b[0;34m.\u001b[0m\u001b[0m_parent_ident\u001b[0m\u001b[0;34m,\u001b[0m\u001b[0;34m\u001b[0m\u001b[0m\n\u001b[1;32m    703\u001b[0m             \u001b[0mself\u001b[0m\u001b[0;34m.\u001b[0m\u001b[0m_parent_header\u001b[0m\u001b[0;34m,\u001b[0m\u001b[0;34m\u001b[0m\u001b[0m\n\u001b[0;32m--> 704\u001b[0;31m             \u001b[0mpassword\u001b[0m\u001b[0;34m=\u001b[0m\u001b[0mFalse\u001b[0m\u001b[0;34m,\u001b[0m\u001b[0;34m\u001b[0m\u001b[0m\n\u001b[0m\u001b[1;32m    705\u001b[0m         )\n\u001b[1;32m    706\u001b[0m \u001b[0;34m\u001b[0m\u001b[0m\n",
      "\u001b[0;32m/Users/francoisgreef/anaconda2/lib/python2.7/site-packages/ipykernel/kernelbase.pyc\u001b[0m in \u001b[0;36m_input_request\u001b[0;34m(self, prompt, ident, parent, password)\u001b[0m\n\u001b[1;32m    732\u001b[0m             \u001b[0;32mexcept\u001b[0m \u001b[0mKeyboardInterrupt\u001b[0m\u001b[0;34m:\u001b[0m\u001b[0;34m\u001b[0m\u001b[0m\n\u001b[1;32m    733\u001b[0m                 \u001b[0;31m# re-raise KeyboardInterrupt, to truncate traceback\u001b[0m\u001b[0;34m\u001b[0m\u001b[0;34m\u001b[0m\u001b[0m\n\u001b[0;32m--> 734\u001b[0;31m                 \u001b[0;32mraise\u001b[0m \u001b[0mKeyboardInterrupt\u001b[0m\u001b[0;34m\u001b[0m\u001b[0m\n\u001b[0m\u001b[1;32m    735\u001b[0m             \u001b[0;32melse\u001b[0m\u001b[0;34m:\u001b[0m\u001b[0;34m\u001b[0m\u001b[0m\n\u001b[1;32m    736\u001b[0m                 \u001b[0;32mbreak\u001b[0m\u001b[0;34m\u001b[0m\u001b[0m\n",
      "\u001b[0;31mKeyboardInterrupt\u001b[0m: "
     ]
    }
   ],
   "source": [
    "import sys\n",
    "\n",
    "welcome_message()\n",
    "\n",
    "play_again = ''\n",
    "\n",
    "while play_again in ('Y',''):\n",
    "    try:\n",
    "        winner = game_in_play()\n",
    "        \n",
    "        play_again = raw_input('Would you like to play again? Yes (Y), No (N): ').upper()\n",
    "        if play_again == 'N':\n",
    "            print('Cheers 👋')\n",
    "            break\n",
    "    except:\n",
    "        print(\"🔥 Something went wrong! 🔥\", sys.exc_info()[0])\n",
    "        raise\n",
    "        "
   ]
  },
  {
   "cell_type": "code",
   "execution_count": null,
   "metadata": {},
   "outputs": [],
   "source": []
  }
 ],
 "metadata": {
  "kernelspec": {
   "display_name": "Python 3",
   "language": "python",
   "name": "python3"
  }
 },
 "nbformat": 4,
 "nbformat_minor": 2
}
