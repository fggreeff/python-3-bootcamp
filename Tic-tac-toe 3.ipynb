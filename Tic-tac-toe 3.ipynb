{
 "cells": [
  {
   "cell_type": "markdown",
   "metadata": {},
   "source": [
    "Tic-tac-toe"
   ]
  },
  {
   "cell_type": "markdown",
   "metadata": {},
   "source": [
    "Two player game that takes turn marking spaces on a 3 by 3 grid, and the objective of the game is to place three connecting marks in a horizontal, vertical, or diagonal row."
   ]
  },
  {
   "cell_type": "code",
   "execution_count": 1,
   "metadata": {},
   "outputs": [],
   "source": [
    "def welcome_message():\n",
    "    print('Welcome to Tic Tac Toe')\n",
    "    print('The best 2 player game ever!!')\n",
    "    print('Player 1 goes first followed by Player 2')\n",
    "    print('Player 1 is x and Player 2 is o')\n",
    "    print('\\n')"
   ]
  },
  {
   "cell_type": "code",
   "execution_count": 2,
   "metadata": {},
   "outputs": [
    {
     "name": "stdout",
     "output_type": "stream",
     "text": [
      "Welcome to Tic Tac Toe\n",
      "The best 2 player game ever!!\n",
      "Player 1 goes first followed by Player 2\n",
      "Player 1 is x and Player 2 is o\n",
      "\n",
      "\n"
     ]
    }
   ],
   "source": [
    "welcome_message()"
   ]
  },
  {
   "cell_type": "code",
   "execution_count": 3,
   "metadata": {},
   "outputs": [],
   "source": [
    "from IPython.display import clear_output\n",
    "\n",
    "def print_board(board):\n",
    "    clear_output\n",
    "    i = 1\n",
    "    for num in board:\n",
    "        if i > 0 and i % 3 == 0:\n",
    "            print num\n",
    "        else:\n",
    "            print num + '|',\n",
    "        i+=1\n",
    "    "
   ]
  },
  {
   "cell_type": "code",
   "execution_count": 33,
   "metadata": {},
   "outputs": [
    {
     "name": "stdout",
     "output_type": "stream",
     "text": [
      "1| 2| 3\n",
      "4| 5| 6\n",
      "7| 8| 9\n"
     ]
    }
   ],
   "source": [
    "board = ['1','2','3','4','5','6','7','8','9']\n",
    "print_board(board)"
   ]
  },
  {
   "cell_type": "code",
   "execution_count": 26,
   "metadata": {},
   "outputs": [],
   "source": [
    "def player_input():\n",
    "    marker=''\n",
    "    while not (marker=='X' or marker=='O'):\n",
    "        marker=raw_input('Player 1, choose X or O as a marker: ').upper()\n",
    "    \n",
    "    player1 = marker\n",
    "    player2 = 'O'\n",
    "    if player1 == 'O':\n",
    "        player2 = 'X'\n",
    "\n",
    "    return (player1, player2)\n",
    "    "
   ]
  },
  {
   "cell_type": "code",
   "execution_count": 68,
   "metadata": {},
   "outputs": [
    {
     "name": "stdout",
     "output_type": "stream",
     "text": [
      "Player 1, choose X or O as a marker: 2\n",
      "Player 1, choose X or O as a marker: x\n"
     ]
    },
    {
     "data": {
      "text/plain": [
       "('X', 'O')"
      ]
     },
     "execution_count": 68,
     "metadata": {},
     "output_type": "execute_result"
    }
   ],
   "source": [
    "player_input()"
   ]
  },
  {
   "cell_type": "code",
   "execution_count": 28,
   "metadata": {},
   "outputs": [],
   "source": [
    "def place_marker(position, marker, board):\n",
    "    board.remove(str(position)) \n",
    "    board.insert(position-1, marker)\n",
    "    return position-1"
   ]
  },
  {
   "cell_type": "code",
   "execution_count": 29,
   "metadata": {},
   "outputs": [
    {
     "name": "stdout",
     "output_type": "stream",
     "text": [
      "1| 2| X\n",
      "4| 5| 6\n",
      "7| 8| 9\n"
     ]
    }
   ],
   "source": [
    "place_marker(3,'X',board)\n",
    "print_board(board)"
   ]
  },
  {
   "cell_type": "code",
   "execution_count": 66,
   "metadata": {},
   "outputs": [],
   "source": [
    "def win_check(board, mark):\n",
    "    win_combination = {\n",
    "        0:[1,2,3],\n",
    "        1:[4,5,6],\n",
    "        2:[7,8,9],\n",
    "        \n",
    "        3:[1,5,9],\n",
    "        3:[1,5,9]\n",
    "    }\n",
    "    for v,k in win_combination.items():\n",
    "        for value in win_combination.values():\n",
    "#             print val\n",
    "    \n",
    "#     switch(win_combination){\n",
    "#         case 1: \n",
    "#     }\n",
    "        \n",
    "#     for item in board:\n",
    "#         if mark in board[0] and mark in board[1] and mark in board[2]:\n",
    "#             return mark\n",
    "        "
   ]
  },
  {
   "cell_type": "code",
   "execution_count": null,
   "metadata": {},
   "outputs": [],
   "source": [
    "def win_check2(board, move_position):\n",
    "    win_combinations = [\n",
    "        [0,1,2],\n",
    "        [3,4,5]\n",
    "    ]\n",
    "    \n",
    "    possible_win_combinations = [win_combination\n",
    "                                 for win_combination in win_combinations\n",
    "                                 if move_position in win_combination]\n",
    "    \n",
    "    def validate_win(win_combination):\n",
    "        mark = board[move_position]\n",
    "        return all([board[pos] == mark\n",
    "                    for pos\n",
    "                    in win_combination])\n",
    "\n",
    "    return any([validate_win(pwc)\n",
    "               for pwc\n",
    "               in possible_win_combinations])\n",
    "    \n",
    "    "
   ]
  },
  {
   "cell_type": "code",
   "execution_count": 67,
   "metadata": {},
   "outputs": [
    {
     "name": "stdout",
     "output_type": "stream",
     "text": [
      "[1, 2, 3]\n",
      "[4, 5, 6]\n",
      "[1, 5, 9]\n",
      "[1, 2, 3]\n",
      "[4, 5, 6]\n",
      "[1, 5, 9]\n",
      "[1, 2, 3]\n",
      "[4, 5, 6]\n",
      "[1, 5, 9]\n"
     ]
    }
   ],
   "source": [
    "win_check(board, 'X')"
   ]
  },
  {
   "cell_type": "code",
   "execution_count": null,
   "metadata": {},
   "outputs": [],
   "source": []
  }
 ],
 "metadata": {
  "kernelspec": {
   "display_name": "Python 3",
   "language": "python",
   "name": "python3"
  },
  "language_info": {
   "codemirror_mode": {
    "name": "ipython",
    "version": 2
   },
   "file_extension": ".py",
   "mimetype": "text/x-python",
   "name": "python",
   "nbconvert_exporter": "python",
   "pygments_lexer": "ipython2",
   "version": "2.7.15"
  }
 },
 "nbformat": 4,
 "nbformat_minor": 2
}
