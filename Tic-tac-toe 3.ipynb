{
 "cells": [
  {
   "cell_type": "markdown",
   "metadata": {},
   "source": [
    "Tic-tac-toe"
   ]
  },
  {
   "cell_type": "markdown",
   "metadata": {},
   "source": [
    "Two player game that takes turn marking spaces on a 3 by 3 grid, and the objective of the game is to place three connecting marks in a horizontal, vertical, or diagonal row."
   ]
  },
  {
   "cell_type": "code",
   "execution_count": 141,
   "metadata": {},
   "outputs": [],
   "source": [
    "def welcome_message():\n",
    "    print('Welcome to Tic Tac Toe')\n",
    "    print('The best 2 player game ever!!')\n",
    "    print('Player 1 goes first followed by Player 2')\n",
    "    print('Player 1 is x and Player 2 is o')\n",
    "    print('\\n')"
   ]
  },
  {
   "cell_type": "code",
   "execution_count": 142,
   "metadata": {},
   "outputs": [
    {
     "name": "stdout",
     "output_type": "stream",
     "text": [
      "Welcome to Tic Tac Toe\n",
      "The best 2 player game ever!!\n",
      "Player 1 goes first followed by Player 2\n",
      "Player 1 is x and Player 2 is o\n",
      "\n",
      "\n"
     ]
    }
   ],
   "source": [
    "welcome_message()"
   ]
  },
  {
   "cell_type": "code",
   "execution_count": 143,
   "metadata": {},
   "outputs": [],
   "source": [
    "from IPython.display import clear_output\n",
    "\n",
    "def print_board(board):\n",
    "    clear_output\n",
    "    i = 1\n",
    "    for num in board:\n",
    "        if i > 0 and i % 3 == 0:\n",
    "            print num\n",
    "        else:\n",
    "            print num + '|',\n",
    "        i+=1\n",
    "    "
   ]
  },
  {
   "cell_type": "code",
   "execution_count": 184,
   "metadata": {},
   "outputs": [
    {
     "name": "stdout",
     "output_type": "stream",
     "text": [
      "1| 2| 3\n",
      "4| 5| 6\n",
      "7| 8| 9\n"
     ]
    }
   ],
   "source": [
    "board = ['1','2','3','4','5','6','7','8','9']\n",
    "print_board(board)"
   ]
  },
  {
   "cell_type": "code",
   "execution_count": 145,
   "metadata": {},
   "outputs": [],
   "source": [
    "def player_input():\n",
    "    marker=''\n",
    "    while not (marker=='X' or marker=='O'):\n",
    "        marker=raw_input('Player 1, choose X or O as a marker: ').upper()\n",
    "    \n",
    "    player1 = marker\n",
    "    player2 = 'O'\n",
    "    if player1 == 'O':\n",
    "        player2 = 'X'\n",
    "\n",
    "    return (player1, player2)\n",
    "    "
   ]
  },
  {
   "cell_type": "code",
   "execution_count": 146,
   "metadata": {},
   "outputs": [
    {
     "name": "stdout",
     "output_type": "stream",
     "text": [
      "Player 1, choose X or O as a marker: x\n"
     ]
    }
   ],
   "source": [
    "player1_marker = player_input()[0]"
   ]
  },
  {
   "cell_type": "code",
   "execution_count": 219,
   "metadata": {},
   "outputs": [
    {
     "name": "stdout",
     "output_type": "stream",
     "text": [
      "Choose a number on the board to place your marker: 5\n",
      "5\n"
     ]
    }
   ],
   "source": [
    "def position(board):\n",
    "    player_position = 0\n",
    "   \n",
    "    while not 1 <= player_position <= 9:\n",
    "        try:\n",
    "            player_position = int(raw_input('Choose a number on the board to place your marker: '))\n",
    "            if board[player_position-1] in ('X', 'O'): \n",
    "                print('That position has already been taken, try again')\n",
    "                player_position = 0\n",
    "        except ValueError:\n",
    "            continue\n",
    "    \n",
    "    return player_position\n",
    "\n",
    "position = position(board)\n",
    "print position"
   ]
  },
  {
   "cell_type": "code",
   "execution_count": 186,
   "metadata": {},
   "outputs": [],
   "source": [
    "def place_marker(position, marker, board):\n",
    "    board.remove(str(position)) \n",
    "    board.insert(position-1, marker)\n",
    "    return position-1"
   ]
  },
  {
   "cell_type": "code",
   "execution_count": 220,
   "metadata": {},
   "outputs": [
    {
     "name": "stdout",
     "output_type": "stream",
     "text": [
      "X| 2| 3\n",
      "4| X| X\n",
      "7| 8| X\n"
     ]
    }
   ],
   "source": [
    "\n",
    "place_marker(position,player1_marker,board)\n",
    "print_board(board)"
   ]
  },
  {
   "cell_type": "code",
   "execution_count": 251,
   "metadata": {},
   "outputs": [],
   "source": [
    "def win_check2(board, move_position, marker):\n",
    "    win_combinations = [\n",
    "        [1,2,3],\n",
    "        [4,5,6],\n",
    "        [7,8,9],\n",
    "        \n",
    "        [1,4,7],\n",
    "        [2,5,8],\n",
    "        [3,6,9],\n",
    "        \n",
    "        [1,5,9],\n",
    "        [3,5,7]\n",
    "    ]\n",
    "    \n",
    "    winning_combinations = []\n",
    "    \n",
    "    possible_win_combinations = [win_combination\n",
    "                                 for win_combination in win_combinations\n",
    "                                 if move_position in win_combination]\n",
    "\n",
    "    \n",
    "    for combination in possible_win_combinations:\n",
    "        combinations = [x for x in combination if marker in board[x-1]]\n",
    "        if len(combinations) > 2:\n",
    "            winning_combinations.append(combinations)\n",
    "    \n",
    "    if len(winning_combinations) > 0:\n",
    "        return 'winner is {mark} who matched {win} '.format(mark=marker, win=winning_combinations)\n",
    "    else:\n",
    "        return 'no winner, keep playing'\n",
    "    \n",
    "    \n",
    "        \n",
    "#         z = all([board[x-1] == marker for x in combination])\n",
    "    \n",
    "#         print marker_found_in_combinations\n",
    "#         return len(marker_found_in_combinations) > 2\n",
    "        \n",
    "#         for item in combination:\n",
    "#             if board[item] == marker\n",
    "#             print item \n",
    "            \n",
    "            \n",
    "#     possible_wins = any(x for x in board if x == marker)\n",
    "#     print possible_win_combinations\n",
    "    \n",
    "#     s = all(j for j in possible_win_combinations)\n",
    "    \n",
    "#     def validate_win(win_combination):\n",
    "#         myValidatedList = []\n",
    "#         mark = board[move_position]\n",
    "        \n",
    "#         print all([board[pos] == mark\n",
    "#                     for pos\n",
    "#                     in win_combination])\n",
    "#         return all([board[pos] == mark\n",
    "#                     for pos\n",
    "#                     in win_combination])\n",
    "\n",
    "#         for pos in win_combination:\n",
    "#             if board[pos+1] != mark:\n",
    "#                 break;\n",
    "#             else:\n",
    "#                 myValidatedList.append(win_combination)\n",
    "#         print myValidatedList\n",
    "            \n",
    "        \n",
    "#     p = validate_win([1,2,3])\n",
    "#     print p\n",
    "\n",
    "# #     print any([validate_win(pwc)\n",
    "#                for pwc\n",
    "#                in possible_win_combinations])\n",
    "#     return any([validate_win(pwc)\n",
    "#                for pwc\n",
    "#                in possible_win_combinations])\n",
    "    \n",
    "    "
   ]
  },
  {
   "cell_type": "code",
   "execution_count": 252,
   "metadata": {},
   "outputs": [
    {
     "name": "stdout",
     "output_type": "stream",
     "text": [
      "winner is X who matched [[1, 5, 9]] \n"
     ]
    }
   ],
   "source": [
    "wins = win_check2(board, position, player1_marker)\n",
    "print (wins)"
   ]
  },
  {
   "cell_type": "code",
   "execution_count": null,
   "metadata": {},
   "outputs": [],
   "source": []
  }
 ],
 "metadata": {
  "kernelspec": {
   "display_name": "Python 3",
   "language": "python",
   "name": "python3"
  },
  "language_info": {
   "codemirror_mode": {
    "name": "ipython",
    "version": 2
   },
   "file_extension": ".py",
   "mimetype": "text/x-python",
   "name": "python",
   "nbconvert_exporter": "python",
   "pygments_lexer": "ipython2",
   "version": "2.7.15"
  }
 },
 "nbformat": 4,
 "nbformat_minor": 2
}
