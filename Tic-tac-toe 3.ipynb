{
 "cells": [
  {
   "cell_type": "markdown",
   "metadata": {},
   "source": [
    "Tic-tac-toe"
   ]
  },
  {
   "cell_type": "markdown",
   "metadata": {},
   "source": [
    "Two player game that takes turn marking spaces on a 3 by 3 grid, and the objective of the game is to place three connecting marks in a horizontal, vertical, or diagonal row."
   ]
  },
  {
   "cell_type": "code",
   "execution_count": 55,
   "metadata": {},
   "outputs": [],
   "source": [
    "def welcome_message():\n",
    "    print('Welcome to Tic Tac Toe')\n",
    "    print('The best 2 player game ever!!')\n",
    "    print('Player 1 goes first followed by Player 2')\n",
    "    print('Player 1 is x and Player 2 is o')\n",
    "    print('\\n')"
   ]
  },
  {
   "cell_type": "code",
   "execution_count": 56,
   "metadata": {},
   "outputs": [
    {
     "name": "stdout",
     "output_type": "stream",
     "text": [
      "Welcome to Tic Tac Toe\n",
      "The best 2 player game ever!!\n",
      "Player 1 goes first followed by Player 2\n",
      "Player 1 is x and Player 2 is o\n",
      "\n",
      "\n"
     ]
    }
   ],
   "source": [
    "welcome_message()"
   ]
  },
  {
   "cell_type": "code",
   "execution_count": 57,
   "metadata": {},
   "outputs": [],
   "source": [
    "from IPython.display import clear_output\n",
    "\n",
    "def print_board(board):\n",
    "    clear_output\n",
    "    i = 1\n",
    "    for num in board:\n",
    "        if i > 0 and i % 3 == 0:\n",
    "            print num\n",
    "        else:\n",
    "            print num + '|',\n",
    "        i+=1\n",
    "    "
   ]
  },
  {
   "cell_type": "code",
   "execution_count": 58,
   "metadata": {},
   "outputs": [
    {
     "name": "stdout",
     "output_type": "stream",
     "text": [
      "X| X| 3\n",
      "4| 5| 6\n",
      "7| 8| 9\n"
     ]
    }
   ],
   "source": [
    "board = ['X','X','3','4','5','6','7','8','9']\n",
    "print_board(board)"
   ]
  },
  {
   "cell_type": "code",
   "execution_count": 59,
   "metadata": {},
   "outputs": [],
   "source": [
    "def player_input():\n",
    "    marker=''\n",
    "    while not (marker=='X' or marker=='O'):\n",
    "        marker=raw_input('Player 1, choose X or O as a marker: ').upper()\n",
    "    \n",
    "    player1 = marker\n",
    "    player2 = 'O'\n",
    "    if player1 == 'O':\n",
    "        player2 = 'X'\n",
    "\n",
    "    return (player1, player2)\n",
    "    "
   ]
  },
  {
   "cell_type": "code",
   "execution_count": 60,
   "metadata": {},
   "outputs": [
    {
     "name": "stdout",
     "output_type": "stream",
     "text": [
      "Player 1, choose X or O as a marker: x\n"
     ]
    }
   ],
   "source": [
    "player1 = player_input()[0]"
   ]
  },
  {
   "cell_type": "code",
   "execution_count": 83,
   "metadata": {},
   "outputs": [
    {
     "name": "stdout",
     "output_type": "stream",
     "text": [
      "Choose a number on the board to place your marker: 3\n",
      "That position has already been taken, try again\n",
      "Choose a number on the board to place your marker: 4\n",
      "4\n"
     ]
    }
   ],
   "source": [
    "def position(board):\n",
    "    player_position = 0\n",
    "   \n",
    "    while not 1 <= player_position <= 9:\n",
    "        try:\n",
    "            player_position = int(raw_input('Choose a number on the board to place your marker: '))\n",
    "            if board[player_position-1] in ('X', 'O'): \n",
    "                print('That position has already been taken, try again')\n",
    "                player_position = 0\n",
    "        except ValueError:\n",
    "            continue\n",
    "    \n",
    "    return player_position\n",
    "\n",
    "position = position(board)\n",
    "print position"
   ]
  },
  {
   "cell_type": "code",
   "execution_count": 81,
   "metadata": {},
   "outputs": [],
   "source": [
    "def place_marker(position, marker, board):\n",
    "    board.remove(str(position)) \n",
    "    board.insert(position-1, marker)\n",
    "    return position-1"
   ]
  },
  {
   "cell_type": "code",
   "execution_count": 84,
   "metadata": {},
   "outputs": [
    {
     "name": "stdout",
     "output_type": "stream",
     "text": [
      "X| X| X\n",
      "X| 5| 6\n",
      "X| 8| 9\n"
     ]
    }
   ],
   "source": [
    "\n",
    "place_marker(position,player1,board)\n",
    "print_board(board)"
   ]
  },
  {
   "cell_type": "code",
   "execution_count": 66,
   "metadata": {},
   "outputs": [],
   "source": [
    "def win_check(board, mark):\n",
    "    win_combination = {\n",
    "        0:[1,2,3],\n",
    "        1:[4,5,6],\n",
    "        2:[7,8,9],\n",
    "        \n",
    "        3:[1,5,9],\n",
    "        3:[1,5,9]\n",
    "    }\n",
    "    for v,k in win_combination.items():\n",
    "        for value in win_combination.values():\n",
    "#             print val\n",
    "    \n",
    "#     switch(win_combination){\n",
    "#         case 1: \n",
    "#     }\n",
    "        \n",
    "#     for item in board:\n",
    "#         if mark in board[0] and mark in board[1] and mark in board[2]:\n",
    "#             return mark\n",
    "        "
   ]
  },
  {
   "cell_type": "code",
   "execution_count": 22,
   "metadata": {},
   "outputs": [],
   "source": [
    "def win_check2(board, move_position):\n",
    "    win_combinations = [\n",
    "        [0,1,2],\n",
    "        [3,4,5]\n",
    "    ]\n",
    "    \n",
    "    possible_win_combinations = [win_combination\n",
    "                                 for win_combination in win_combinations\n",
    "                                 if move_position in win_combination]\n",
    "    \n",
    "    print possible_win_combinations\n",
    "    \n",
    "    def validate_win(win_combination):\n",
    "        myValidatedList = []\n",
    "        mark = board[move_position]\n",
    "#         print all([board[pos] == mark\n",
    "#                     for pos\n",
    "#                     in win_combination])\n",
    "#         return all([board[pos] == mark\n",
    "#                     for pos\n",
    "#                     in win_combination])\n",
    "        for pos in win_combination:\n",
    "            if board[pos+1] != mark:\n",
    "                break;\n",
    "            else:\n",
    "                myValidatedList.append(win_combination)\n",
    "        print myValidatedList\n",
    "            \n",
    "        \n",
    "    p = validate_win([1,2,3])\n",
    "    print p\n",
    "#     print any([validate_win(pwc)\n",
    "#                for pwc\n",
    "#                in possible_win_combinations])\n",
    "#     return any([validate_win(pwc)\n",
    "#                for pwc\n",
    "#                in possible_win_combinations])\n",
    "    \n",
    "    "
   ]
  },
  {
   "cell_type": "code",
   "execution_count": 23,
   "metadata": {},
   "outputs": [
    {
     "name": "stdout",
     "output_type": "stream",
     "text": [
      "[[0, 1, 2]]\n",
      "[[1, 2, 3]]\n",
      "None\n",
      "None\n"
     ]
    }
   ],
   "source": [
    "wins = win_check2(board, 2)\n",
    "print (wins)"
   ]
  },
  {
   "cell_type": "code",
   "execution_count": 11,
   "metadata": {},
   "outputs": [
    {
     "name": "stdout",
     "output_type": "stream",
     "text": [
      "1\n",
      "2\n",
      "3\n",
      "4\n",
      "5\n",
      "6\n"
     ]
    }
   ],
   "source": [
    "lst1 = [[1,2,3],[4,5,6]]\n",
    "lst2 = [1,2,3, 4,5,6]\n",
    "\n",
    "for x in lst2:\n",
    "        print (x)\n",
    "    \n",
    "    "
   ]
  },
  {
   "cell_type": "code",
   "execution_count": 67,
   "metadata": {},
   "outputs": [
    {
     "name": "stdout",
     "output_type": "stream",
     "text": [
      "[1, 2, 3]\n",
      "[4, 5, 6]\n",
      "[1, 5, 9]\n",
      "[1, 2, 3]\n",
      "[4, 5, 6]\n",
      "[1, 5, 9]\n",
      "[1, 2, 3]\n",
      "[4, 5, 6]\n",
      "[1, 5, 9]\n"
     ]
    }
   ],
   "source": [
    "win_check(board, 'X')"
   ]
  },
  {
   "cell_type": "code",
   "execution_count": null,
   "metadata": {},
   "outputs": [],
   "source": []
  }
 ],
 "metadata": {
  "kernelspec": {
   "display_name": "Python 3",
   "language": "python",
   "name": "python3"
  },
  "language_info": {
   "codemirror_mode": {
    "name": "ipython",
    "version": 2
   },
   "file_extension": ".py",
   "mimetype": "text/x-python",
   "name": "python",
   "nbconvert_exporter": "python",
   "pygments_lexer": "ipython2",
   "version": "2.7.15"
  }
 },
 "nbformat": 4,
 "nbformat_minor": 2
}
